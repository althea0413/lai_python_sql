{
 "cells": [
  {
   "cell_type": "code",
   "execution_count": 27,
   "metadata": {},
   "outputs": [],
   "source": [
    "import psycopg2\n",
    "\n",
    "conn = psycopg2.connect(host='192.168.0.252',database=\"mydatabase_a03\",user='a03',password='raspberry')"
   ]
  },
  {
   "cell_type": "code",
   "execution_count": 33,
   "metadata": {},
   "outputs": [
    {
     "name": "stdout",
     "output_type": "stream",
     "text": [
      "<connection object at 0x0000020CA2EF2350; dsn: 'user=a03 password=xxx dbname=mydatabase_a03 host=192.168.0.252', closed: 1>\n"
     ]
    }
   ],
   "source": [
    "print(conn)"
   ]
  },
  {
   "cell_type": "code",
   "execution_count": 34,
   "metadata": {},
   "outputs": [
    {
     "ename": "InterfaceError",
     "evalue": "connection already closed",
     "output_type": "error",
     "traceback": [
      "\u001b[1;31m---------------------------------------------------------------------------\u001b[0m",
      "\u001b[1;31mInterfaceError\u001b[0m                            Traceback (most recent call last)",
      "Cell \u001b[1;32mIn[34], line 7\u001b[0m\n\u001b[0;32m      1\u001b[0m sql \u001b[38;5;241m=\u001b[39m \u001b[38;5;124m'''\u001b[39m\u001b[38;5;124mCREATE TABLE IF NOT EXISTS 市場(\u001b[39m\n\u001b[0;32m      2\u001b[0m \u001b[38;5;124m\tname VARCHAR(20),\u001b[39m\n\u001b[0;32m      3\u001b[0m \u001b[38;5;124m\tcountry VARCHAR(20),\u001b[39m\n\u001b[0;32m      4\u001b[0m \u001b[38;5;124m\tPRIMARY KEY(name)\u001b[39m\n\u001b[0;32m      5\u001b[0m \u001b[38;5;124m);\u001b[39m\u001b[38;5;124m'''\u001b[39m\n\u001b[1;32m----> 7\u001b[0m cursor \u001b[38;5;241m=\u001b[39m \u001b[43mconn\u001b[49m\u001b[38;5;241;43m.\u001b[39;49m\u001b[43mcursor\u001b[49m\u001b[43m(\u001b[49m\u001b[43m)\u001b[49m\n\u001b[0;32m      8\u001b[0m cursor\u001b[38;5;241m.\u001b[39mexecute(sql)\n\u001b[0;32m     10\u001b[0m sql1 \u001b[38;5;241m=\u001b[39m \u001b[38;5;124m'''\u001b[39m\u001b[38;5;124mCREATE TABLE IF NOT EXISTS 股市(\u001b[39m\n\u001b[0;32m     11\u001b[0m \u001b[38;5;124mstock_id SERIAL,\u001b[39m\n\u001b[0;32m     12\u001b[0m \u001b[38;5;124mdate DATE,\u001b[39m\n\u001b[1;32m   (...)\u001b[0m\n\u001b[0;32m     23\u001b[0m \u001b[38;5;124mON UPDATE CASCADE\u001b[39m\n\u001b[0;32m     24\u001b[0m \u001b[38;5;124m);\u001b[39m\u001b[38;5;124m'''\u001b[39m\n",
      "\u001b[1;31mInterfaceError\u001b[0m: connection already closed"
     ]
    }
   ],
   "source": [
    "sql = '''CREATE TABLE IF NOT EXISTS 市場(\n",
    "\tname VARCHAR(20),\n",
    "\tcountry VARCHAR(20),\n",
    "\tPRIMARY KEY(name)\n",
    ");'''\n",
    "\n",
    "cursor = conn.cursor()\n",
    "cursor.execute(sql)\n",
    "\n",
    "sql1 = '''CREATE TABLE IF NOT EXISTS 股市(\n",
    "stock_id SERIAL,\n",
    "date DATE,\n",
    "open NUMERIC(17,10),\n",
    "high NUMERIC(17,10),\n",
    "low NUMERIC(17,10),\n",
    "close NUMERIC(17,10),\n",
    "adj_close NUMERIC(17,10),\n",
    "volume BIGINT DEFAULT 0,\n",
    "name VARCHAR(20),\n",
    "PRIMARY KEY(stock_id),\n",
    "FOREIGN KEY(name) REFERENCES 市場(name) \n",
    "ON DELETE NO ACTION\n",
    "ON UPDATE CASCADE\n",
    ");'''\n",
    "\n",
    "cursor.execute(sql1)\n",
    "conn.commit()\n",
    "\n",
    "cursor.close()\n",
    "conn.close()"
   ]
  },
  {
   "cell_type": "code",
   "execution_count": 41,
   "metadata": {},
   "outputs": [],
   "source": [
    "import psycopg2\n",
    "\n",
    "conn = psycopg2.connect(host='192.168.0.252',database=\"mydatabase_a03\",user='a03',password='raspberry')\n",
    "\n",
    "with conn:\n",
    "    with conn.cursor() as cursor:\n",
    "        sql = '''CREATE TABLE IF NOT EXISTS 市場(\n",
    "        name VARCHAR(20),\n",
    "        country VARCHAR(20),\n",
    "        PRIMARY KEY(name),\n",
    "        UNIQUE(name,country) /*不可以有重覆的資料*/\n",
    "        );'''\n",
    "\n",
    "        cursor.execute(sql)\n",
    "    \n",
    "    with conn.cursor() as cursor:\n",
    "        sql = '''CREATE TABLE IF NOT EXISTS 股市(\n",
    "\t    stock_id SERIAL,\n",
    "\t    date DATE,\n",
    "\t    open NUMERIC(17,10),\n",
    "\t    high NUMERIC(17,10),\n",
    "\t    low NUMERIC(17,10),\n",
    "\t    close NUMERIC(17,10),\n",
    "\t    adj_close NUMERIC(17,10),\n",
    "\t    volume BIGINT DEFAULT 0,\n",
    "\t    name VARCHAR(20),\n",
    "\t    PRIMARY KEY(stock_id),\n",
    "\t    UNIQUE(date,name),\n",
    "\t    FOREIGN KEY(name) REFERENCES 市場(name) \n",
    "\t    ON DELETE NO ACTION\n",
    "\t    ON UPDATE CASCADE\n",
    "        );'''\n",
    "        cursor.execute(sql)\n",
    "    \n",
    "conn.close()"
   ]
  }
 ],
 "metadata": {
  "kernelspec": {
   "display_name": "lai",
   "language": "python",
   "name": "python3"
  },
  "language_info": {
   "codemirror_mode": {
    "name": "ipython",
    "version": 3
   },
   "file_extension": ".py",
   "mimetype": "text/x-python",
   "name": "python",
   "nbconvert_exporter": "python",
   "pygments_lexer": "ipython3",
   "version": "3.10.15"
  }
 },
 "nbformat": 4,
 "nbformat_minor": 2
}
