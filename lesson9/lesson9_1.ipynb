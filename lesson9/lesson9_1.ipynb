{
 "cells": [
  {
   "cell_type": "code",
   "execution_count": null,
   "metadata": {},
   "outputs": [],
   "source": [
    "import requests\n",
    "from pprint import pprint\n",
    "url='https://tcgbusfs.blob.core.windows.net/dotapp/youbike/v2/youbike_immediate.json'\n",
    "try:\n",
    "    response = requests.get(url)\n",
    "    response.raise_for_status()\n",
    "except:\n",
    "    print(\"有錯誤\")\n",
    "else:\n",
    "    pprint(response.json())"
   ]
  },
  {
   "cell_type": "code",
   "execution_count": 31,
   "metadata": {},
   "outputs": [],
   "source": [
    "import psycopg2\n",
    "from dotenv import load_dotenv\n",
    "import os\n",
    "load_dotenv()\n",
    "\n",
    "conn = psycopg2.connect(host=os.environ['HOST'],database=os.environ['DATABASE'],user=os.environ['USER'],password=os.environ['PASSWORD'])\n",
    "with conn:\n",
    "     with conn.cursor() as cursor:\n",
    "        sql = '''\n",
    "            CREATE TABLE IF NOT EXISTS 站點資訊(\n",
    "            站點編號 VARCHAR(10),\n",
    "            站點名稱 VARCHAR(30) NOT NULL,\n",
    "            行政區 VARCHAR(10) NOT NULL,\n",
    "            站點地址 VARCHAR(50),\n",
    "            lat NUMERIC(15,11),\n",
    "            lng NUMERIC(15,11),\n",
    "            PRIMARY KEY(站點編號)\n",
    "            );\n",
    "\n",
    "            CREATE TABLE IF NOT EXISTS youbike(\n",
    "            日期 TIMESTAMP,\n",
    "            編號 VARCHAR(10),\n",
    "            總車輛 INTEGER,\n",
    "            可借 INTEGER,\n",
    "            可還 INTEGER,\n",
    "            活動 BOOLEAN,\n",
    "            PRIMARY KEY(日期,編號),\n",
    "            FOREIGN KEY(編號) REFERENCES 站點資訊(站點編號) \n",
    "            ON DELETE CASCADE\n",
    "            ON UPDATE CASCADE\n",
    "            );\n",
    "            '''\n",
    "        cursor.execute(sql)\n",
    "        \n",
    "conn.close()"
   ]
  },
  {
   "cell_type": "code",
   "execution_count": null,
   "metadata": {},
   "outputs": [],
   "source": [
    "conn = psycopg2.connect(host=os.environ['HOST'],database=os.environ['DATABASE'],user=os.environ['USER'],password=os.environ['PASSWORD'])\n",
    "with conn:\n",
    "     with conn.cursor() as cursor:\n",
    "          sql = '''\n",
    "               /*插入站點資訊*/\n",
    "               INSERT INTO 站點資訊 \n",
    "               VALUES('500101001','YouBike2.0_捷運科技大樓站','大安區','復興南路二段235號前',25.02605,121.5436)\n",
    "               ON CONFLICT DO NOTHING;\n",
    "\n",
    "               SELECT count(*)\n",
    "               FROM 站點資訊\n",
    "\n",
    "               /*插入youbike資訊*/\n",
    "               INSERT INTO youbike\n",
    "               VALUES('2024-02-16 10:48:19','500101001',28,1,27,true)\n",
    "               ON CONFLICT DO NOTHING;\n",
    "\n",
    "               SELECT count(*)\n",
    "               FROM youbike'''\n",
    "               \n",
    "conn.close()"
   ]
  }
 ],
 "metadata": {
  "kernelspec": {
   "display_name": "lailai",
   "language": "python",
   "name": "python3"
  },
  "language_info": {
   "codemirror_mode": {
    "name": "ipython",
    "version": 3
   },
   "file_extension": ".py",
   "mimetype": "text/x-python",
   "name": "python",
   "nbconvert_exporter": "python",
   "pygments_lexer": "ipython3",
   "version": "3.10.15"
  }
 },
 "nbformat": 4,
 "nbformat_minor": 2
}
